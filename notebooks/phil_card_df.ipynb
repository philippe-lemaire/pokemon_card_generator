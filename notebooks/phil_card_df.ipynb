{
 "cells": [
  {
   "cell_type": "code",
   "execution_count": 30,
   "id": "f12a949e",
   "metadata": {
    "ExecuteTime": {
     "end_time": "2021-06-28T15:01:09.957281Z",
     "start_time": "2021-06-28T15:01:09.931873Z"
    }
   },
   "outputs": [
    {
     "name": "stdout",
     "output_type": "stream",
     "text": [
      "The autoreload extension is already loaded. To reload it, use:\n",
      "  %reload_ext autoreload\n"
     ]
    }
   ],
   "source": [
    "%load_ext autoreload\n",
    "\n",
    "%autoreload 2"
   ]
  },
  {
   "cell_type": "code",
   "execution_count": 33,
   "id": "f271b888",
   "metadata": {
    "ExecuteTime": {
     "end_time": "2021-06-28T15:01:36.416524Z",
     "start_time": "2021-06-28T15:01:33.762918Z"
    }
   },
   "outputs": [],
   "source": [
    "from pokemon_card_generator.data import card_data\n",
    "\n",
    "card_df = card_data.get_card_data()"
   ]
  },
  {
   "cell_type": "code",
   "execution_count": 34,
   "id": "63e84ee2",
   "metadata": {
    "ExecuteTime": {
     "end_time": "2021-06-28T15:01:37.001611Z",
     "start_time": "2021-06-28T15:01:36.990495Z"
    }
   },
   "outputs": [
    {
     "data": {
      "text/plain": [
       "Index(['id', 'name', 'supertype', 'subtypes', 'level', 'hp', 'types',\n",
       "       'evolvesFrom', 'abilities', 'attacks', 'weaknesses', 'retreatCost',\n",
       "       'convertedRetreatCost', 'set', 'number', 'artist', 'rarity',\n",
       "       'flavorText', 'nationalPokedexNumbers', 'legalities', 'images',\n",
       "       'tcgplayer', 'evolvesTo', 'resistances', 'rules', 'index',\n",
       "       'ancientTrait'],\n",
       "      dtype='object')"
      ]
     },
     "execution_count": 34,
     "metadata": {},
     "output_type": "execute_result"
    }
   ],
   "source": [
    "card_df.columns"
   ]
  }
 ],
 "metadata": {
  "kernelspec": {
   "display_name": "Python 3",
   "language": "python",
   "name": "python3"
  },
  "language_info": {
   "codemirror_mode": {
    "name": "ipython",
    "version": 3
   },
   "file_extension": ".py",
   "mimetype": "text/x-python",
   "name": "python",
   "nbconvert_exporter": "python",
   "pygments_lexer": "ipython3",
   "version": "3.8.6"
  },
  "toc": {
   "base_numbering": 1,
   "nav_menu": {},
   "number_sections": true,
   "sideBar": true,
   "skip_h1_title": false,
   "title_cell": "Table of Contents",
   "title_sidebar": "Contents",
   "toc_cell": false,
   "toc_position": {},
   "toc_section_display": true,
   "toc_window_display": false
  }
 },
 "nbformat": 4,
 "nbformat_minor": 5
}
