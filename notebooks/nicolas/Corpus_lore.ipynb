{
 "cells": [
  {
   "cell_type": "code",
   "execution_count": 4,
   "id": "212d7c41",
   "metadata": {},
   "outputs": [],
   "source": [
    "import requests\n",
    "from bs4 import BeautifulSoup\n",
    "import time\n",
    "import pandas as pd\n",
    "from pokemon_card_generator.data.pokemon_list import pokemon_list\n",
    "import pickle"
   ]
  },
  {
   "cell_type": "code",
   "execution_count": 135,
   "id": "dc42397e",
   "metadata": {},
   "outputs": [],
   "source": [
    "pklist = [\"Charizard\",\"Spectrier\"]"
   ]
  },
  {
   "cell_type": "code",
   "execution_count": 136,
   "id": "c11373e2",
   "metadata": {},
   "outputs": [
    {
     "name": "stdout",
     "output_type": "stream",
     "text": [
      "1/2. Scrapping for https://bulbapedia.bulbagarden.net/wiki/Charizard_(Pok%C3%A9mon)#Biology done !\n",
      "2/2. Scrapping for https://bulbapedia.bulbagarden.net/wiki/Spectrier_(Pok%C3%A9mon)#Biology done !\n"
     ]
    }
   ],
   "source": [
    "uri = \"https://bulbapedia.bulbagarden.net/wiki/\"\n",
    "corpus_lore = {}\n",
    "\n",
    "for cpt,name in enumerate(pklist,1):\n",
    "    url = f\"{uri}{name}_(Pok%C3%A9mon)#Biology\"\n",
    "        \n",
    "    print(f\"{cpt}/{len(pklist)}. Scrapping for {url} done !\")\n",
    "    \n",
    "    response = requests.get(url)\n",
    "    soup = BeautifulSoup(response.content, \"html.parser\")\n",
    "    \n",
    "    start = soup.find('h2', text='Biology')\n",
    "    end = soup.find('h2', text=['In the TCG','In the anime','Game data'])\n",
    "\n",
    "    content = ''\n",
    "    item = start.nextSibling\n",
    "\n",
    "    while item != end:\n",
    "        content += str(item)\n",
    "        item = item.nextSibling\n",
    "    \n",
    "    soupA = BeautifulSoup(content, \"html.parser\")\n",
    "    corpus_lore[name] = soupA.text\n",
    "\n",
    "        "
   ]
  },
  {
   "cell_type": "code",
   "execution_count": 137,
   "id": "11e2862c",
   "metadata": {},
   "outputs": [
    {
     "data": {
      "text/plain": [
       "{'Charizard': \"\\n Mega Charizard X and Mega Charizard Y.\\nCharizard is a draconic, bipedal Pokémon. It is primarily orange with a cream underside from the chest to the tip of its tail. It has a long neck, small blue eyes, slightly raised nostrils, and two horn-like structures protruding from the back of its rectangular head. There are two fangs visible in the upper jaw when its mouth is closed. Two large wings with blue-green undersides sprout from its back, and a horn-like appendage juts out from the third joint of each wing. A single wing-finger is visible through the center of each wing membrane. Charizard's arms are short and skinny compared to its robust belly, and each limb has three white claws. It has stocky legs with cream-colored soles on each of its plantigrade feet. The tip of its long, tapering tail burns with a sizable flame.\\nCharizard has two Mega Forms. Both feature a shorter snout, white, vertical slit pupils, and a bright underside reaching the lower jaw.\\nAs Mega Charizard X, its body and legs are more physically fit, though its arms remain thin. Its skin turns black with a sky-blue underside and soles. Two spikes with blue tips curve upward from the front and back of each shoulder, while the tips of its horns sharpen, turn blue, and curve slightly upward. Its brow and claws are larger, and its eyes are now red. It has two small, fin-like spikes under each horn and two more down its lower neck. The finger disappears from the wing membrane, and the lower edges are divided into large, rounded points. The third joint of each wing-arm is adorned with a claw-like spike. Mega Charizard X breathes blue flames out the sides of its mouth, and the flame on its tail now burns blue. It is said that its new power turns it black and creates more intense flames.\\nAs Mega Charizard Y, it becomes sleeker in appearance but retains its normal coloration. It has three pointed horns on the back of its head, the middle of which is longer. Its snout has larger fangs and a ridge on the nose. Its neck is shorter, but its torso is thinner and longer. It features longer digitigrade feet. Its hands are less developed, with extremely shortened fingers that are no longer separated from each other. Small wings develop on its wrists, while the ones on its back become larger, lose the wing finger passing through their membrane and end up with ragged edges. The back of its tail has a large spike at the base and three smaller ones near the tip, which now burns with a longer flame. Mega Charizard Y is said to have incredible flying prowess that is greater than a jet fighter.\\nAs Gigantamax Charizard, it becomes larger and physically fit. The lower part of its body glows white with several yellow diamonds located on the lower belly. There are also diamond-shaped spots located on the front legs. The claws located on its hand and feet become longer and sharp. The feet become longer and digitigrade, retaining small glowing soles under the forefeet. The wings are transformed into literal flame wings extending to the shoulder blade and two flames located on the horns. The colossal flamed wings were created from the energy of Gigantamaxing. The sclera of the eyes becomes yellow. The glow of a flame can be seen in the mouth, and the teeth grow, with the lower front teeth and three teeth in the middle now protruding when the mouth is closed. The flame on the tail extends out and has three red clouds surrounding it, like most other Gigantamax Pokémon. The flames within Gigantamax Charizard burns hotter than 3,600 degrees Fahrenheit. When it roars, the temperature can climb to even higher lengths. The wings are capable of being hotter than magma which Charizard uses to burn its opponents.[1]\\nCharizard flies in search of powerful opponents to battle, and its fire will burn hotter as it gains experience. Its fiery breath is capable of melting boulders, massive glaciers, and has been known to accidentally cause forest fires. Though its fiery breath is hot, it never turns it on any opponent weaker than itself. In the past, Blast Burn was its signature move. Charizard typically inhabits mountains and valleys, such as the Charicific Valley in Johto. The anime has shown that only a weak Charizard would show off its power. It also showed that Charizard can swim underwater, with Pokémon Origins further showing that the flame on the tip of the tail can still keep burning underwater. The wings of Charizard can carry to an altitude of 4,600 feet (1,400 meters).\\nGigantamax Charizard is the only known Pokémon capable of using the exclusive G-Max Move G-Max Wildfire.\\n\\n\",\n",
       " 'Spectrier': '\\n\\n\\n\\n\\nThis section does not yet meet the quality standards of Bulbapedia. Please feel free to edit this section to make it conform to Bulbapedia norms and conventions.\\n\\nSpectrier is an equine Pokémon with black fur and a purple marking covering the right side of its face extending to the back of its ears. Its left eye is closed with thick, mauve-colored eyelashes. Its purple mane is wavy, with the tips of its mane transitioning to mauve, while a fringe and its tail are completely mauve. It has slender legs marked with a purple sock pattern. Each of its purple hooves is detached from its legs at the pastern, and the rear pair of hooves are trailed by spectral mist.\\nAs Spectrier desires isolation and silence, it tends to be active during the night where its energy is heightened. Its nocturnal habits resulted in it having weak eyesight, but its other four senses are keenly sharpened; this allows Spectrier to have an accurate sense of the terrain and location of living things. Its kicks are said to separate a soul from its body, and it can steal the life force of sleeping beings. It feeds on the ambient life-force it steals from others and will attack anyone who would try to disturb it.[1]\\nSpectrier is known to be very proud and arrogant, preferring to serve individuals it deems the strongest. It once ruled over the Crown Tundra as the lord of all Pokémon.[2] Spectrier was known to terrorize the Crown Tundra for a time due to humans invading its territory; this lasted until it was defeated and tamed by Calyrex. It has a fondness for carrots, particularly Shaderoot Carrots.\\n\\n'}"
      ]
     },
     "execution_count": 137,
     "metadata": {},
     "output_type": "execute_result"
    }
   ],
   "source": [
    "corpus_lore"
   ]
  },
  {
   "cell_type": "code",
   "execution_count": 126,
   "id": "875371d1",
   "metadata": {
    "collapsed": true
   },
   "outputs": [
    {
     "name": "stdout",
     "output_type": "stream",
     "text": [
      "<class 'str'>\n"
     ]
    },
    {
     "data": {
      "text/plain": [
       "'\\n<div class=\"thumb tleft\"><div class=\"thumbinner\" style=\"width:252px;\"><a class=\"image\" href=\"/wiki/File:Mega_Charizard_X_Mega_Charizard_Y_artwork.png\"><img alt=\"\" class=\"thumbimage\" decoding=\"async\" height=\"177\" src=\"//cdn2.bulbagarden.net/upload/thumb/6/65/Mega_Charizard_X_Mega_Charizard_Y_artwork.png/250px-Mega_Charizard_X_Mega_Charizard_Y_artwork.png\" srcset=\"//cdn2.bulbagarden.net/upload/thumb/6/65/Mega_Charizard_X_Mega_Charizard_Y_artwork.png/375px-Mega_Charizard_X_Mega_Charizard_Y_artwork.png 1.5x, //cdn2.bulbagarden.net/upload/thumb/6/65/Mega_Charizard_X_Mega_Charizard_Y_artwork.png/500px-Mega_Charizard_X_Mega_Charizard_Y_artwork.png 2x\" width=\"250\"/></a> <div class=\"thumbcaption\"><div class=\"magnify\"><a class=\"internal\" href=\"/wiki/File:Mega_Charizard_X_Mega_Charizard_Y_artwork.png\" title=\"Enlarge\"></a></div>Mega Charizard X and Mega Charizard Y.</div></div></div>\\n<p>Charizard is a draconic, bipedal <a href=\"/wiki/Pok%C3%A9mon_(species)\" title=\"Pokémon (species)\">Pokémon</a>. It is primarily orange with a cream underside from the chest to the tip of its tail. It has a long neck, small blue eyes, slightly raised nostrils, and two horn-like structures protruding from the back of its rectangular head. There are two fangs visible in the upper jaw when its mouth is closed. Two large wings with blue-green undersides sprout from its back, and a horn-like appendage juts out from the third joint of each wing. A single wing-finger is visible through the center of each wing membrane. Charizard\\'s arms are short and skinny compared to its robust belly, and each limb has three white claws. It has stocky legs with cream-colored soles on each of its <a class=\"extiw\" href=\"https://en.wikipedia.org/wiki/plantigrade\" title=\"wp:plantigrade\">plantigrade</a> feet. The tip of its long, tapering tail burns with a sizable flame.\\n</p><p>Charizard has two Mega Forms. Both feature a shorter snout, white, vertical slit pupils, and a bright underside reaching the lower jaw.\\n</p><p>As Mega Charizard X, its body and legs are more physically fit, though its arms remain thin. Its skin turns black with a sky-blue underside and soles. Two spikes with blue tips curve upward from the front and back of each shoulder, while the tips of its horns sharpen, turn blue, and curve slightly upward. Its brow and claws are larger, and its eyes are now red. It has two small, fin-like spikes under each horn and two more down its lower neck. The finger disappears from the wing membrane, and the lower edges are divided into large, rounded points. The third joint of each wing-arm is adorned with a claw-like spike. Mega Charizard X breathes blue flames out the sides of its mouth, and the flame on its tail now burns blue. It is said that its new power turns it black and creates more intense flames.\\n</p><p>As Mega Charizard Y, it becomes sleeker in appearance but retains its normal coloration. It has three pointed horns on the back of its head, the middle of which is longer. Its snout has larger fangs and a ridge on the nose. Its neck is shorter, but its torso is thinner and longer. It features longer <a class=\"extiw\" href=\"https://en.wikipedia.org/wiki/digitigrade\" title=\"wp:digitigrade\">digitigrade</a> feet. Its hands are less developed, with extremely shortened fingers that are no longer separated from each other. Small wings develop on its wrists, while the ones on its back become larger, lose the wing finger passing through their membrane and end up with ragged edges. The back of its tail has a large spike at the base and three smaller ones near the tip, which now burns with a longer flame. Mega Charizard Y is said to have incredible flying prowess that is greater than a jet fighter.\\n</p><p>As Gigantamax Charizard, it becomes larger and physically fit. The lower part of its body glows white with several yellow diamonds located on the lower belly. There are also diamond-shaped spots located on the front legs. The claws located on its hand and feet become longer and sharp. The feet become longer and digitigrade, retaining small glowing soles under the forefeet. The wings are transformed into literal flame wings extending to the shoulder blade and two flames located on the horns. The colossal flamed wings were created from the energy of <a href=\"/wiki/Gigantamax\" title=\"Gigantamax\">Gigantamaxing</a>. The sclera of the eyes becomes yellow. The glow of a flame can be seen in the mouth, and the teeth grow, with the lower front teeth and three teeth in the middle now protruding when the mouth is closed. The flame on the tail extends out and has three red clouds surrounding it, like most other Gigantamax Pokémon. The flames within Gigantamax Charizard burns hotter than 3,600 degrees Fahrenheit. When it roars, the temperature can climb to even higher lengths. The wings are capable of being hotter than magma which Charizard uses to burn its opponents.<sup class=\"reference\" id=\"cite_ref-1\"><a href=\"#cite_note-1\">[1]</a></sup>\\n</p><p>Charizard flies in search of powerful opponents to battle, and its fire will burn hotter as it gains experience. Its fiery breath is capable of melting boulders, massive glaciers, and has been known to accidentally cause forest fires. Though its fiery breath is hot, it never turns it on any opponent weaker than itself. In the past, <a href=\"/wiki/Blast_Burn_(move)\" title=\"Blast Burn (move)\">Blast Burn</a> was its <a href=\"/wiki/Signature_move\" title=\"Signature move\">signature move</a>. Charizard typically inhabits <a href=\"/wiki/List_of_Pok%C3%A9mon_by_habitat#Mountain_Pok.C3.A9mon\" title=\"List of Pokémon by habitat\">mountains and valleys</a>, such as the <a href=\"/wiki/Charicific_Valley\" title=\"Charicific Valley\">Charicific Valley</a> in <a href=\"/wiki/Johto\" title=\"Johto\">Johto</a>. <a href=\"/wiki/EP134\" title=\"EP134\">The anime</a> has shown that only a weak Charizard would show off its power. <a href=\"/wiki/HS17\" title=\"HS17\">It also showed</a> that Charizard can swim underwater, with <a href=\"/wiki/Pok%C3%A9mon_Origins\" title=\"Pokémon Origins\">Pokémon Origins</a> further showing that the flame on the tip of the tail can still keep burning underwater. The wings of Charizard can carry to an altitude of 4,600 feet (1,400 meters).\\n</p><p>Gigantamax Charizard is the <a href=\"/wiki/Signature_move\" title=\"Signature move\">only known Pokémon</a> capable of using the exclusive <a href=\"/wiki/G-Max_Move\" title=\"G-Max Move\">G-Max Move</a> <a href=\"/wiki/G-Max_Wildfire_(move)\" title=\"G-Max Wildfire (move)\">G-Max Wildfire</a>.\\n</p>\\n'"
      ]
     },
     "execution_count": 126,
     "metadata": {},
     "output_type": "execute_result"
    }
   ],
   "source": [
    "print(type(content))\n",
    "content"
   ]
  },
  {
   "cell_type": "code",
   "execution_count": 127,
   "id": "1b3c4949",
   "metadata": {},
   "outputs": [],
   "source": [
    "soupA = BeautifulSoup(content, \"html.parser\")"
   ]
  },
  {
   "cell_type": "code",
   "execution_count": 132,
   "id": "b8eb3786",
   "metadata": {},
   "outputs": [
    {
     "name": "stdout",
     "output_type": "stream",
     "text": [
      "\n",
      " Mega Charizard X and Mega Charizard Y.\n",
      "Charizard is a draconic, bipedal Pokémon. It is primarily orange with a cream underside from the chest to the tip of its tail. It has a long neck, small blue eyes, slightly raised nostrils, and two horn-like structures protruding from the back of its rectangular head. There are two fangs visible in the upper jaw when its mouth is closed. Two large wings with blue-green undersides sprout from its back, and a horn-like appendage juts out from the third joint of each wing. A single wing-finger is visible through the center of each wing membrane. Charizard's arms are short and skinny compared to its robust belly, and each limb has three white claws. It has stocky legs with cream-colored soles on each of its plantigrade feet. The tip of its long, tapering tail burns with a sizable flame.\n",
      "Charizard has two Mega Forms. Both feature a shorter snout, white, vertical slit pupils, and a bright underside reaching the lower jaw.\n",
      "As Mega Charizard X, its body and legs are more physically fit, though its arms remain thin. Its skin turns black with a sky-blue underside and soles. Two spikes with blue tips curve upward from the front and back of each shoulder, while the tips of its horns sharpen, turn blue, and curve slightly upward. Its brow and claws are larger, and its eyes are now red. It has two small, fin-like spikes under each horn and two more down its lower neck. The finger disappears from the wing membrane, and the lower edges are divided into large, rounded points. The third joint of each wing-arm is adorned with a claw-like spike. Mega Charizard X breathes blue flames out the sides of its mouth, and the flame on its tail now burns blue. It is said that its new power turns it black and creates more intense flames.\n",
      "As Mega Charizard Y, it becomes sleeker in appearance but retains its normal coloration. It has three pointed horns on the back of its head, the middle of which is longer. Its snout has larger fangs and a ridge on the nose. Its neck is shorter, but its torso is thinner and longer. It features longer digitigrade feet. Its hands are less developed, with extremely shortened fingers that are no longer separated from each other. Small wings develop on its wrists, while the ones on its back become larger, lose the wing finger passing through their membrane and end up with ragged edges. The back of its tail has a large spike at the base and three smaller ones near the tip, which now burns with a longer flame. Mega Charizard Y is said to have incredible flying prowess that is greater than a jet fighter.\n",
      "As Gigantamax Charizard, it becomes larger and physically fit. The lower part of its body glows white with several yellow diamonds located on the lower belly. There are also diamond-shaped spots located on the front legs. The claws located on its hand and feet become longer and sharp. The feet become longer and digitigrade, retaining small glowing soles under the forefeet. The wings are transformed into literal flame wings extending to the shoulder blade and two flames located on the horns. The colossal flamed wings were created from the energy of Gigantamaxing. The sclera of the eyes becomes yellow. The glow of a flame can be seen in the mouth, and the teeth grow, with the lower front teeth and three teeth in the middle now protruding when the mouth is closed. The flame on the tail extends out and has three red clouds surrounding it, like most other Gigantamax Pokémon. The flames within Gigantamax Charizard burns hotter than 3,600 degrees Fahrenheit. When it roars, the temperature can climb to even higher lengths. The wings are capable of being hotter than magma which Charizard uses to burn its opponents.[1]\n",
      "Charizard flies in search of powerful opponents to battle, and its fire will burn hotter as it gains experience. Its fiery breath is capable of melting boulders, massive glaciers, and has been known to accidentally cause forest fires. Though its fiery breath is hot, it never turns it on any opponent weaker than itself. In the past, Blast Burn was its signature move. Charizard typically inhabits mountains and valleys, such as the Charicific Valley in Johto. The anime has shown that only a weak Charizard would show off its power. It also showed that Charizard can swim underwater, with Pokémon Origins further showing that the flame on the tip of the tail can still keep burning underwater. The wings of Charizard can carry to an altitude of 4,600 feet (1,400 meters).\n",
      "Gigantamax Charizard is the only known Pokémon capable of using the exclusive G-Max Move G-Max Wildfire.\n",
      "\n",
      "\n"
     ]
    }
   ],
   "source": [
    "print(soupA.text)"
   ]
  },
  {
   "cell_type": "code",
   "execution_count": null,
   "id": "c2cf07f6",
   "metadata": {},
   "outputs": [],
   "source": []
  },
  {
   "cell_type": "code",
   "execution_count": null,
   "id": "0ce8ed46",
   "metadata": {},
   "outputs": [],
   "source": []
  }
 ],
 "metadata": {
  "kernelspec": {
   "display_name": "Python 3",
   "language": "python",
   "name": "python3"
  },
  "language_info": {
   "codemirror_mode": {
    "name": "ipython",
    "version": 3
   },
   "file_extension": ".py",
   "mimetype": "text/x-python",
   "name": "python",
   "nbconvert_exporter": "python",
   "pygments_lexer": "ipython3",
   "version": "3.8.6"
  },
  "toc": {
   "base_numbering": 1,
   "nav_menu": {},
   "number_sections": true,
   "sideBar": true,
   "skip_h1_title": false,
   "title_cell": "Table of Contents",
   "title_sidebar": "Contents",
   "toc_cell": false,
   "toc_position": {},
   "toc_section_display": true,
   "toc_window_display": false
  }
 },
 "nbformat": 4,
 "nbformat_minor": 5
}
