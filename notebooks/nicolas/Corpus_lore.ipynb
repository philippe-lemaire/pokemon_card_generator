{
 "cells": [
  {
   "cell_type": "code",
   "execution_count": null,
   "id": "6c3bdb75",
   "metadata": {},
   "outputs": [],
   "source": [
    "import requests\n",
    "from bs4 import BeautifulSoup\n",
    "import time\n",
    "import pandas as pd\n",
    "from pokemon_card_generator.data.pokemon_list import pokemon_list\n",
    "import pickle"
   ]
  },
  {
   "cell_type": "code",
   "execution_count": null,
   "id": "3236feb7",
   "metadata": {},
   "outputs": [],
   "source": [
    "uri = \"https://bulbapedia.bulbagarden.net/wiki/\"\n",
    "corpus_lore = {}\n",
    "\n",
    "for cpt,name in enumerate(pklist,1):\n",
    "    url = f\"{uri}{name}_(Pok%C3%A9mon)#Biology\"\n",
    "        \n",
    "    print(f\"{cpt}/{len(pklist)}. Scrapping for {url} done !\")\n",
    "    \n",
    "    response = requests.get(url)\n",
    "    soup = BeautifulSoup(response.content, \"html.parser\")\n",
    "    \n",
    "    start = soup.find('h2', text='Biology')\n",
    "    end = soup.find('h2', text=['In the TCG','In the anime','Game data'])\n",
    "\n",
    "    content = ''\n",
    "    item = start.nextSibling\n",
    "\n",
    "    while item != end:\n",
    "        content += str(item)\n",
    "        item = item.nextSibling\n",
    "    \n",
    "    soupA = BeautifulSoup(content, \"html.parser\")\n",
    "    corpus_lore[name] = soupA.text\n",
    "\n",
    "        "
   ]
  },
  {
   "cell_type": "code",
   "execution_count": null,
   "id": "7342b184",
   "metadata": {},
   "outputs": [],
   "source": [
    "corpus_lore"
   ]
  },
  {
   "cell_type": "code",
   "execution_count": null,
   "id": "87b6e373",
   "metadata": {},
   "outputs": [],
   "source": []
  }
 ],
 "metadata": {
  "kernelspec": {
   "display_name": "Python 3",
   "language": "python",
   "name": "python3"
  },
  "language_info": {
   "codemirror_mode": {
    "name": "ipython",
    "version": 3
   },
   "file_extension": ".py",
   "mimetype": "text/x-python",
   "name": "python",
   "nbconvert_exporter": "python",
   "pygments_lexer": "ipython3",
   "version": "3.8.6"
  },
  "toc": {
   "base_numbering": 1,
   "nav_menu": {},
   "number_sections": true,
   "sideBar": true,
   "skip_h1_title": false,
   "title_cell": "Table of Contents",
   "title_sidebar": "Contents",
   "toc_cell": false,
   "toc_position": {},
   "toc_section_display": true,
   "toc_window_display": false
  }
 },
 "nbformat": 4,
 "nbformat_minor": 5
}
