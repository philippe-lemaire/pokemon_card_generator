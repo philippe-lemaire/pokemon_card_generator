{
 "cells": [
  {
   "cell_type": "code",
   "execution_count": 8,
   "id": "f380b6e4",
   "metadata": {},
   "outputs": [
    {
     "name": "stdout",
     "output_type": "stream",
     "text": [
      "The autoreload extension is already loaded. To reload it, use:\n",
      "  %reload_ext autoreload\n"
     ]
    }
   ],
   "source": [
    "%load_ext autoreload\n",
    "%autoreload 2"
   ]
  },
  {
   "cell_type": "code",
   "execution_count": 13,
   "id": "591abb8e",
   "metadata": {},
   "outputs": [],
   "source": [
    "import requests\n",
    "from bs4 import BeautifulSoup\n",
    "import time\n",
    "import pandas as pd\n",
    "#from pokemon_card_generator.data.pokemon_list import pokemon_list\n",
    "import pickle"
   ]
  },
  {
   "cell_type": "code",
   "execution_count": 18,
   "id": "134ba5b5",
   "metadata": {},
   "outputs": [],
   "source": [
    "pokemon_list = [\"Farfetch%27d\"]"
   ]
  },
  {
   "cell_type": "code",
   "execution_count": 19,
   "id": "394be4d2",
   "metadata": {},
   "outputs": [],
   "source": [
    "def corpus_lore_scrapper(pokemon_list,x=0.5):\n",
    "    \n",
    "    uri = \"https://bulbapedia.bulbagarden.net/wiki/\"\n",
    "    corpus_lore_dictionary = {}\n",
    "\n",
    "    for cpt,name in enumerate(pokemon_list,1):\n",
    "        url = f\"{uri}{name}_(Pok%C3%A9mon)#Biology\"\n",
    "\n",
    "        response = requests.get(url)\n",
    "        soup = BeautifulSoup(response.content, \"html.parser\")\n",
    "\n",
    "        start = soup.find('h2', text='Biology')\n",
    "        end = soup.find('h2', text=['In the TCG','In the anime','Game data'])\n",
    "\n",
    "        content = ''\n",
    "        item = start.nextSibling\n",
    "        \n",
    "        time.sleep(x)\n",
    "\n",
    "        while item != end:\n",
    "            content += str(item)\n",
    "            item = item.nextSibling\n",
    "\n",
    "        soupA = BeautifulSoup(content, \"html.parser\")\n",
    "        corpus_lore_dictionary[name] = soupA.text\n",
    "        pokemon_list\n",
    "        print(f\"{cpt}/{len(pokemon_list)}. Scrapping for {url} done !\")\n",
    "        \n",
    "    return corpus_lore_dictionary"
   ]
  },
  {
   "cell_type": "code",
   "execution_count": 20,
   "id": "61822255",
   "metadata": {},
   "outputs": [
    {
     "name": "stdout",
     "output_type": "stream",
     "text": [
      "1/1. Scrapping for https://bulbapedia.bulbagarden.net/wiki/Farfetch%27d_(Pok%C3%A9mon)#Biology done !\n"
     ]
    }
   ],
   "source": [
    "corpus_lore = corpus_lore_scrapper(pokemon_list)"
   ]
  },
  {
   "cell_type": "code",
   "execution_count": 21,
   "id": "d8dfd4b4",
   "metadata": {},
   "outputs": [
    {
     "data": {
      "text/plain": [
       "{'Farfetch%27d': \"\\nFarfetch'd is an avian Pokémon that resembles a light brown duck with a white underbelly. It has a flat, yellow beak, brown eyes, a V-shaped black marking on its forehead (similar to a unibrow), and a three-feather crest on top of its head. Its wings are as big as its body and appear to be prehensile enough to substitute for hands. It has yellow legs with webbed feet and a stubby tail.\\nFarfetch'd is always seen carrying a leek stalk or spring onion. It carries this sprig in its wings, but sometimes chooses to hold it in its beak or feet instead. Unable to live without its stick, Farfetch'd will defend the stalk with its life. Losing it can leave Farfetch'd defenseless. Known uses for the stick include use as a weapon, nesting material, and emergency food source. It is selective about which sticks it will use and has been known to fight over good ones. Farfetch'd is found in temperate grasslands.\\nGalarian Farfetch'd is a deeper shade of brown, with a more prominent black mark on its head. The leek it carries with its wings is much larger in Galar than the leeks that Farfetch'd use in other regions. Its body has developed a much stronger frame that gives it the strength required to carry its leek. However, the sheer mass of it makes it hard for Farfetch'd to fly. It is renowned for its courage in battle and can use their leeks like swords or javelins.\\nFarfetch'd and its Galarian evolved form Sirfetch'd are the only Pokémon capable of using the Leek item.\\n\\n\"}"
      ]
     },
     "execution_count": 21,
     "metadata": {},
     "output_type": "execute_result"
    }
   ],
   "source": [
    "corpus_lore"
   ]
  },
  {
   "cell_type": "code",
   "execution_count": null,
   "id": "7caa15c3",
   "metadata": {},
   "outputs": [],
   "source": [
    "# Export pickle file\n",
    "with open(\"corpus_lore.pkl\", \"wb\") as file:\n",
    "    pickle.dump(corpus_lore, file)"
   ]
  }
 ],
 "metadata": {
  "kernelspec": {
   "display_name": "Python 3",
   "language": "python",
   "name": "python3"
  },
  "language_info": {
   "codemirror_mode": {
    "name": "ipython",
    "version": 3
   },
   "file_extension": ".py",
   "mimetype": "text/x-python",
   "name": "python",
   "nbconvert_exporter": "python",
   "pygments_lexer": "ipython3",
   "version": "3.8.6"
  },
  "toc": {
   "base_numbering": 1,
   "nav_menu": {},
   "number_sections": true,
   "sideBar": true,
   "skip_h1_title": false,
   "title_cell": "Table of Contents",
   "title_sidebar": "Contents",
   "toc_cell": false,
   "toc_position": {},
   "toc_section_display": true,
   "toc_window_display": false
  }
 },
 "nbformat": 4,
 "nbformat_minor": 5
}
