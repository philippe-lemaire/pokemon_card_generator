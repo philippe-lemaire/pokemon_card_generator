{
 "cells": [
  {
   "cell_type": "code",
   "execution_count": null,
   "id": "f12a949e",
   "metadata": {
    "ExecuteTime": {
     "end_time": "2021-06-29T09:35:01.988938Z",
     "start_time": "2021-06-29T09:35:01.963164Z"
    }
   },
   "outputs": [],
   "source": [
    "%load_ext autoreload\n",
    "\n",
    "%autoreload 2"
   ]
  },
  {
   "cell_type": "code",
   "execution_count": null,
   "id": "d40cd991",
   "metadata": {
    "ExecuteTime": {
     "end_time": "2021-06-29T09:35:02.564091Z",
     "start_time": "2021-06-29T09:35:02.224047Z"
    }
   },
   "outputs": [],
   "source": [
    "import pandas as pd"
   ]
  },
  {
   "cell_type": "code",
   "execution_count": null,
   "id": "f271b888",
   "metadata": {
    "ExecuteTime": {
     "end_time": "2021-06-29T09:41:26.181256Z",
     "start_time": "2021-06-29T09:41:21.833120Z"
    }
   },
   "outputs": [],
   "source": [
    "from pokemon_card_generator.data import card_data\n",
    "\n",
    "cards_df = card_data.get_card_data()"
   ]
  },
  {
   "cell_type": "code",
   "execution_count": null,
   "id": "16a021f4",
   "metadata": {},
   "outputs": [],
   "source": []
  }
 ],
 "metadata": {
  "kernelspec": {
   "display_name": "Python 3",
   "language": "python",
   "name": "python3"
  },
  "language_info": {
   "codemirror_mode": {
    "name": "ipython",
    "version": 3
   },
   "file_extension": ".py",
   "mimetype": "text/x-python",
   "name": "python",
   "nbconvert_exporter": "python",
   "pygments_lexer": "ipython3",
   "version": "3.8.6"
  },
  "toc": {
   "base_numbering": 1,
   "nav_menu": {},
   "number_sections": true,
   "sideBar": true,
   "skip_h1_title": false,
   "title_cell": "Table of Contents",
   "title_sidebar": "Contents",
   "toc_cell": false,
   "toc_position": {},
   "toc_section_display": true,
   "toc_window_display": false
  }
 },
 "nbformat": 4,
 "nbformat_minor": 5
}
