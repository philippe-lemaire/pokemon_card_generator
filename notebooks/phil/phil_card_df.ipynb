{
 "cells": [
  {
   "cell_type": "code",
   "execution_count": 1,
   "id": "f12a949e",
   "metadata": {
    "ExecuteTime": {
     "end_time": "2021-06-29T07:06:00.558236Z",
     "start_time": "2021-06-29T07:06:00.523436Z"
    }
   },
   "outputs": [],
   "source": [
    "%load_ext autoreload\n",
    "\n",
    "%autoreload 2"
   ]
  },
  {
   "cell_type": "code",
   "execution_count": 2,
   "id": "f271b888",
   "metadata": {
    "ExecuteTime": {
     "end_time": "2021-06-29T07:06:15.626622Z",
     "start_time": "2021-06-29T07:06:11.475380Z"
    }
   },
   "outputs": [],
   "source": [
    "from pokemon_card_generator.data import card_data\n",
    "\n",
    "card_df = card_data.get_card_data()"
   ]
  },
  {
   "cell_type": "code",
   "execution_count": 7,
   "id": "3657301c",
   "metadata": {
    "ExecuteTime": {
     "end_time": "2021-06-29T07:09:47.748603Z",
     "start_time": "2021-06-29T07:09:47.716138Z"
    }
   },
   "outputs": [],
   "source": [
    "from pokemon_card_generator.data import set_data"
   ]
  },
  {
   "cell_type": "code",
   "execution_count": 8,
   "id": "b13659a9",
   "metadata": {
    "ExecuteTime": {
     "end_time": "2021-06-29T07:09:48.412426Z",
     "start_time": "2021-06-29T07:09:48.032831Z"
    }
   },
   "outputs": [],
   "source": [
    "sets_df = set_data.get_sets()"
   ]
  },
  {
   "cell_type": "code",
   "execution_count": 9,
   "id": "6601587a",
   "metadata": {
    "ExecuteTime": {
     "end_time": "2021-06-29T07:09:54.967792Z",
     "start_time": "2021-06-29T07:09:54.875482Z"
    }
   },
   "outputs": [
    {
     "data": {
      "text/html": [
       "<div>\n",
       "<style scoped>\n",
       "    .dataframe tbody tr th:only-of-type {\n",
       "        vertical-align: middle;\n",
       "    }\n",
       "\n",
       "    .dataframe tbody tr th {\n",
       "        vertical-align: top;\n",
       "    }\n",
       "\n",
       "    .dataframe thead th {\n",
       "        text-align: right;\n",
       "    }\n",
       "</style>\n",
       "<table border=\"1\" class=\"dataframe\">\n",
       "  <thead>\n",
       "    <tr style=\"text-align: right;\">\n",
       "      <th></th>\n",
       "      <th>id</th>\n",
       "      <th>name</th>\n",
       "      <th>series</th>\n",
       "      <th>printedTotal</th>\n",
       "      <th>total</th>\n",
       "      <th>legalities</th>\n",
       "      <th>ptcgoCode</th>\n",
       "      <th>releaseDate</th>\n",
       "      <th>updatedAt</th>\n",
       "      <th>images</th>\n",
       "    </tr>\n",
       "  </thead>\n",
       "  <tbody>\n",
       "    <tr>\n",
       "      <th>0</th>\n",
       "      <td>base1</td>\n",
       "      <td>Base</td>\n",
       "      <td>Base</td>\n",
       "      <td>102</td>\n",
       "      <td>102</td>\n",
       "      <td>{'unlimited': 'Legal'}</td>\n",
       "      <td>BS</td>\n",
       "      <td>1999/01/09</td>\n",
       "      <td>2020/08/14 09:35:00</td>\n",
       "      <td>{'symbol': 'https://images.pokemontcg.io/base1...</td>\n",
       "    </tr>\n",
       "    <tr>\n",
       "      <th>1</th>\n",
       "      <td>base2</td>\n",
       "      <td>Jungle</td>\n",
       "      <td>Base</td>\n",
       "      <td>64</td>\n",
       "      <td>64</td>\n",
       "      <td>{'unlimited': 'Legal'}</td>\n",
       "      <td>JU</td>\n",
       "      <td>1999/06/16</td>\n",
       "      <td>2020/08/14 09:35:00</td>\n",
       "      <td>{'symbol': 'https://images.pokemontcg.io/base2...</td>\n",
       "    </tr>\n",
       "    <tr>\n",
       "      <th>2</th>\n",
       "      <td>basep</td>\n",
       "      <td>Wizards Black Star Promos</td>\n",
       "      <td>Base</td>\n",
       "      <td>53</td>\n",
       "      <td>53</td>\n",
       "      <td>{'unlimited': 'Legal'}</td>\n",
       "      <td>PR</td>\n",
       "      <td>1999/07/01</td>\n",
       "      <td>2020/08/14 09:35:00</td>\n",
       "      <td>{'symbol': 'https://images.pokemontcg.io/basep...</td>\n",
       "    </tr>\n",
       "    <tr>\n",
       "      <th>3</th>\n",
       "      <td>base3</td>\n",
       "      <td>Fossil</td>\n",
       "      <td>Base</td>\n",
       "      <td>62</td>\n",
       "      <td>62</td>\n",
       "      <td>{'unlimited': 'Legal'}</td>\n",
       "      <td>FO</td>\n",
       "      <td>1999/10/10</td>\n",
       "      <td>2020/08/14 09:35:00</td>\n",
       "      <td>{'symbol': 'https://images.pokemontcg.io/base3...</td>\n",
       "    </tr>\n",
       "    <tr>\n",
       "      <th>4</th>\n",
       "      <td>base4</td>\n",
       "      <td>Base Set 2</td>\n",
       "      <td>Base</td>\n",
       "      <td>130</td>\n",
       "      <td>130</td>\n",
       "      <td>{'unlimited': 'Legal'}</td>\n",
       "      <td>B2</td>\n",
       "      <td>2000/02/24</td>\n",
       "      <td>2020/08/14 09:35:00</td>\n",
       "      <td>{'symbol': 'https://images.pokemontcg.io/base4...</td>\n",
       "    </tr>\n",
       "    <tr>\n",
       "      <th>...</th>\n",
       "      <td>...</td>\n",
       "      <td>...</td>\n",
       "      <td>...</td>\n",
       "      <td>...</td>\n",
       "      <td>...</td>\n",
       "      <td>...</td>\n",
       "      <td>...</td>\n",
       "      <td>...</td>\n",
       "      <td>...</td>\n",
       "      <td>...</td>\n",
       "    </tr>\n",
       "    <tr>\n",
       "      <th>118</th>\n",
       "      <td>swsh4</td>\n",
       "      <td>Vivid Voltage</td>\n",
       "      <td>Sword &amp; Shield</td>\n",
       "      <td>185</td>\n",
       "      <td>203</td>\n",
       "      <td>{'unlimited': 'Legal', 'standard': 'Legal', 'e...</td>\n",
       "      <td>VIV</td>\n",
       "      <td>2020/11/13</td>\n",
       "      <td>2020/11/13 16:20:00</td>\n",
       "      <td>{'symbol': 'https://images.pokemontcg.io/swsh4...</td>\n",
       "    </tr>\n",
       "    <tr>\n",
       "      <th>119</th>\n",
       "      <td>swsh45</td>\n",
       "      <td>Shining Fates</td>\n",
       "      <td>Sword &amp; Shield</td>\n",
       "      <td>72</td>\n",
       "      <td>73</td>\n",
       "      <td>{'unlimited': 'Legal', 'standard': 'Legal', 'e...</td>\n",
       "      <td>SHF</td>\n",
       "      <td>2021/02/19</td>\n",
       "      <td>2021/02/24 16:17:00</td>\n",
       "      <td>{'symbol': 'https://images.pokemontcg.io/swsh4...</td>\n",
       "    </tr>\n",
       "    <tr>\n",
       "      <th>120</th>\n",
       "      <td>swsh45sv</td>\n",
       "      <td>Shiny Vault</td>\n",
       "      <td>Sword &amp; Shield</td>\n",
       "      <td>122</td>\n",
       "      <td>122</td>\n",
       "      <td>{'unlimited': 'Legal', 'standard': 'Legal', 'e...</td>\n",
       "      <td>SHF</td>\n",
       "      <td>2021/02/19</td>\n",
       "      <td>2021/02/24 16:17:00</td>\n",
       "      <td>{'symbol': 'https://images.pokemontcg.io/swsh4...</td>\n",
       "    </tr>\n",
       "    <tr>\n",
       "      <th>121</th>\n",
       "      <td>swsh5</td>\n",
       "      <td>Battle Styles</td>\n",
       "      <td>Sword &amp; Shield</td>\n",
       "      <td>163</td>\n",
       "      <td>183</td>\n",
       "      <td>{'unlimited': 'Legal', 'standard': 'Legal', 'e...</td>\n",
       "      <td>BST</td>\n",
       "      <td>2021/03/19</td>\n",
       "      <td>2021/03/19 15:12:00</td>\n",
       "      <td>{'symbol': 'https://images.pokemontcg.io/swsh5...</td>\n",
       "    </tr>\n",
       "    <tr>\n",
       "      <th>122</th>\n",
       "      <td>swsh6</td>\n",
       "      <td>Chilling Reign</td>\n",
       "      <td>Sword &amp; Shield</td>\n",
       "      <td>198</td>\n",
       "      <td>233</td>\n",
       "      <td>{'unlimited': 'Legal', 'standard': 'Legal', 'e...</td>\n",
       "      <td>CRE</td>\n",
       "      <td>2021/06/18</td>\n",
       "      <td>2021/06/18 12:12:00</td>\n",
       "      <td>{'symbol': 'https://images.pokemontcg.io/swsh6...</td>\n",
       "    </tr>\n",
       "  </tbody>\n",
       "</table>\n",
       "<p>123 rows × 10 columns</p>\n",
       "</div>"
      ],
      "text/plain": [
       "           id                       name          series  printedTotal  total  \\\n",
       "0       base1                       Base            Base           102    102   \n",
       "1       base2                     Jungle            Base            64     64   \n",
       "2       basep  Wizards Black Star Promos            Base            53     53   \n",
       "3       base3                     Fossil            Base            62     62   \n",
       "4       base4                 Base Set 2            Base           130    130   \n",
       "..        ...                        ...             ...           ...    ...   \n",
       "118     swsh4              Vivid Voltage  Sword & Shield           185    203   \n",
       "119    swsh45              Shining Fates  Sword & Shield            72     73   \n",
       "120  swsh45sv                Shiny Vault  Sword & Shield           122    122   \n",
       "121     swsh5              Battle Styles  Sword & Shield           163    183   \n",
       "122     swsh6             Chilling Reign  Sword & Shield           198    233   \n",
       "\n",
       "                                            legalities ptcgoCode releaseDate  \\\n",
       "0                               {'unlimited': 'Legal'}        BS  1999/01/09   \n",
       "1                               {'unlimited': 'Legal'}        JU  1999/06/16   \n",
       "2                               {'unlimited': 'Legal'}        PR  1999/07/01   \n",
       "3                               {'unlimited': 'Legal'}        FO  1999/10/10   \n",
       "4                               {'unlimited': 'Legal'}        B2  2000/02/24   \n",
       "..                                                 ...       ...         ...   \n",
       "118  {'unlimited': 'Legal', 'standard': 'Legal', 'e...       VIV  2020/11/13   \n",
       "119  {'unlimited': 'Legal', 'standard': 'Legal', 'e...       SHF  2021/02/19   \n",
       "120  {'unlimited': 'Legal', 'standard': 'Legal', 'e...       SHF  2021/02/19   \n",
       "121  {'unlimited': 'Legal', 'standard': 'Legal', 'e...       BST  2021/03/19   \n",
       "122  {'unlimited': 'Legal', 'standard': 'Legal', 'e...       CRE  2021/06/18   \n",
       "\n",
       "               updatedAt                                             images  \n",
       "0    2020/08/14 09:35:00  {'symbol': 'https://images.pokemontcg.io/base1...  \n",
       "1    2020/08/14 09:35:00  {'symbol': 'https://images.pokemontcg.io/base2...  \n",
       "2    2020/08/14 09:35:00  {'symbol': 'https://images.pokemontcg.io/basep...  \n",
       "3    2020/08/14 09:35:00  {'symbol': 'https://images.pokemontcg.io/base3...  \n",
       "4    2020/08/14 09:35:00  {'symbol': 'https://images.pokemontcg.io/base4...  \n",
       "..                   ...                                                ...  \n",
       "118  2020/11/13 16:20:00  {'symbol': 'https://images.pokemontcg.io/swsh4...  \n",
       "119  2021/02/24 16:17:00  {'symbol': 'https://images.pokemontcg.io/swsh4...  \n",
       "120  2021/02/24 16:17:00  {'symbol': 'https://images.pokemontcg.io/swsh4...  \n",
       "121  2021/03/19 15:12:00  {'symbol': 'https://images.pokemontcg.io/swsh5...  \n",
       "122  2021/06/18 12:12:00  {'symbol': 'https://images.pokemontcg.io/swsh6...  \n",
       "\n",
       "[123 rows x 10 columns]"
      ]
     },
     "execution_count": 9,
     "metadata": {},
     "output_type": "execute_result"
    }
   ],
   "source": [
    "sets_df"
   ]
  },
  {
   "cell_type": "code",
   "execution_count": null,
   "id": "63e84ee2",
   "metadata": {
    "ExecuteTime": {
     "end_time": "2021-06-28T15:31:28.998325Z",
     "start_time": "2021-06-28T15:31:28.970813Z"
    }
   },
   "outputs": [],
   "source": [
    "card_df.columns"
   ]
  },
  {
   "cell_type": "code",
   "execution_count": null,
   "id": "664e7897",
   "metadata": {
    "ExecuteTime": {
     "end_time": "2021-06-28T15:32:19.843649Z",
     "start_time": "2021-06-28T15:32:19.813342Z"
    }
   },
   "outputs": [],
   "source": [
    "# list all the files in data\n",
    "from os import walk, path\n",
    "\n",
    "two_dirs_up = path.dirname(path.dirname(path.abspath(__file__)))\n",
    "pickles_path = path.join(two_dirs_up, \"raw_data/pickles\")\n",
    "    \n",
    "filenames = next(walk(pickles_path), (None, None, []))[2]  # [] if no file"
   ]
  },
  {
   "cell_type": "code",
   "execution_count": null,
   "id": "f049212e",
   "metadata": {},
   "outputs": [],
   "source": []
  }
 ],
 "metadata": {
  "kernelspec": {
   "display_name": "Python 3",
   "language": "python",
   "name": "python3"
  },
  "language_info": {
   "codemirror_mode": {
    "name": "ipython",
    "version": 3
   },
   "file_extension": ".py",
   "mimetype": "text/x-python",
   "name": "python",
   "nbconvert_exporter": "python",
   "pygments_lexer": "ipython3",
   "version": "3.8.6"
  },
  "toc": {
   "base_numbering": 1,
   "nav_menu": {},
   "number_sections": true,
   "sideBar": true,
   "skip_h1_title": false,
   "title_cell": "Table of Contents",
   "title_sidebar": "Contents",
   "toc_cell": false,
   "toc_position": {},
   "toc_section_display": true,
   "toc_window_display": false
  }
 },
 "nbformat": 4,
 "nbformat_minor": 5
}
