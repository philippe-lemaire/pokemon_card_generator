{
 "cells": [
  {
   "cell_type": "code",
   "execution_count": null,
   "id": "f12a949e",
   "metadata": {
    "ExecuteTime": {
     "end_time": "2021-06-29T16:18:32.687561Z",
     "start_time": "2021-06-29T16:18:32.645325Z"
    }
   },
   "outputs": [],
   "source": [
    "%load_ext autoreload\n",
    "\n",
    "%autoreload 2"
   ]
  },
  {
   "cell_type": "code",
   "execution_count": null,
   "id": "67d681f6",
   "metadata": {
    "ExecuteTime": {
     "end_time": "2021-06-29T16:18:34.471400Z",
     "start_time": "2021-06-29T16:18:33.448864Z"
    }
   },
   "outputs": [],
   "source": [
    "import pandas as pd\n",
    "from sklearn.linear_model import LinearRegression\n",
    "import matplotlib.pyplot as plt\n",
    "import numpy as np"
   ]
  },
  {
   "cell_type": "code",
   "execution_count": null,
   "id": "45088cfb",
   "metadata": {
    "ExecuteTime": {
     "end_time": "2021-06-29T16:18:35.479004Z",
     "start_time": "2021-06-29T16:18:35.441648Z"
    }
   },
   "outputs": [],
   "source": [
    "from pokemon_card_generator.data.pokemon_list import pokemon_list"
   ]
  },
  {
   "cell_type": "code",
   "execution_count": null,
   "id": "983efa47",
   "metadata": {
    "ExecuteTime": {
     "end_time": "2021-06-29T16:18:36.476646Z",
     "start_time": "2021-06-29T16:18:36.417342Z"
    }
   },
   "outputs": [],
   "source": [
    "pokemon_list"
   ]
  },
  {
   "cell_type": "code",
   "execution_count": null,
   "id": "f271b888",
   "metadata": {
    "ExecuteTime": {
     "end_time": "2021-06-29T16:18:41.479498Z",
     "start_time": "2021-06-29T16:18:37.368538Z"
    }
   },
   "outputs": [],
   "source": [
    "from pokemon_card_generator.data import card_data\n",
    "\n",
    "cards_df = card_data.get_card_data()"
   ]
  },
  {
   "cell_type": "code",
   "execution_count": null,
   "id": "0184bcaa",
   "metadata": {
    "ExecuteTime": {
     "end_time": "2021-06-29T16:18:42.206202Z",
     "start_time": "2021-06-29T16:18:42.169825Z"
    }
   },
   "outputs": [],
   "source": [
    "pokemon_df = cards_df[cards_df.supertype == 'Pokémon']"
   ]
  },
  {
   "cell_type": "code",
   "execution_count": null,
   "id": "47b9e58f",
   "metadata": {
    "ExecuteTime": {
     "end_time": "2021-06-29T16:18:42.964654Z",
     "start_time": "2021-06-29T16:18:42.945561Z"
    }
   },
   "outputs": [],
   "source": [
    "time_series_df = pokemon_df[['name', 'releaseDate', 'hp' ]]"
   ]
  },
  {
   "cell_type": "code",
   "execution_count": null,
   "id": "e21c633e",
   "metadata": {
    "ExecuteTime": {
     "end_time": "2021-06-29T16:18:43.897478Z",
     "start_time": "2021-06-29T16:18:43.833162Z"
    }
   },
   "outputs": [],
   "source": [
    "time_series_df"
   ]
  },
  {
   "cell_type": "code",
   "execution_count": null,
   "id": "8c06dfef",
   "metadata": {
    "ExecuteTime": {
     "end_time": "2021-06-29T16:18:44.846779Z",
     "start_time": "2021-06-29T16:18:44.816766Z"
    }
   },
   "outputs": [],
   "source": [
    "# one observation per pokémon"
   ]
  },
  {
   "cell_type": "code",
   "execution_count": null,
   "id": "176f86e9",
   "metadata": {
    "ExecuteTime": {
     "end_time": "2021-06-29T16:18:46.784652Z",
     "start_time": "2021-06-29T16:18:45.496754Z"
    }
   },
   "outputs": [],
   "source": [
    "observations = []\n",
    "\n",
    "for pokemon in pokemon_list:\n",
    "    mask = time_series_df['name'] == pokemon\n",
    "    pokemon_df = time_series_df[mask]\n",
    "    observations.append(pokemon_df.hp.to_list())\n"
   ]
  },
  {
   "cell_type": "code",
   "execution_count": null,
   "id": "561ee3ec",
   "metadata": {
    "ExecuteTime": {
     "end_time": "2021-06-29T16:18:47.466111Z",
     "start_time": "2021-06-29T16:18:47.433158Z"
    }
   },
   "outputs": [],
   "source": [
    "observations[pokemon_list.index('Raboot')]"
   ]
  },
  {
   "cell_type": "code",
   "execution_count": null,
   "id": "c1055dd4",
   "metadata": {
    "ExecuteTime": {
     "end_time": "2021-06-29T16:18:48.303829Z",
     "start_time": "2021-06-29T16:18:48.153844Z"
    }
   },
   "outputs": [],
   "source": [
    "observations"
   ]
  },
  {
   "cell_type": "code",
   "execution_count": null,
   "id": "97766a3a",
   "metadata": {
    "ExecuteTime": {
     "end_time": "2021-06-29T16:18:49.136489Z",
     "start_time": "2021-06-29T16:18:49.122003Z"
    }
   },
   "outputs": [],
   "source": [
    "y = [item[0] if len(item)>0 else 0 for item in observations]"
   ]
  },
  {
   "cell_type": "code",
   "execution_count": null,
   "id": "baef0648",
   "metadata": {
    "ExecuteTime": {
     "end_time": "2021-06-29T16:18:50.233468Z",
     "start_time": "2021-06-29T16:18:50.199682Z"
    }
   },
   "outputs": [],
   "source": [
    "X = [item[:-1] if len(item)>0 else [0] for item in observations]"
   ]
  },
  {
   "cell_type": "code",
   "execution_count": null,
   "id": "d2b05944",
   "metadata": {
    "ExecuteTime": {
     "end_time": "2021-06-29T16:18:51.035499Z",
     "start_time": "2021-06-29T16:18:50.896290Z"
    }
   },
   "outputs": [],
   "source": [
    "X"
   ]
  },
  {
   "cell_type": "code",
   "execution_count": null,
   "id": "c293300c",
   "metadata": {
    "ExecuteTime": {
     "end_time": "2021-06-29T16:18:57.147415Z",
     "start_time": "2021-06-29T16:18:54.949073Z"
    }
   },
   "outputs": [],
   "source": [
    "# ––– It is very easy to code\n",
    "\n",
    "from tensorflow.keras.models import Sequential\n",
    "from tensorflow.keras import layers\n"
   ]
  },
  {
   "cell_type": "code",
   "execution_count": null,
   "id": "003e10f3",
   "metadata": {
    "ExecuteTime": {
     "end_time": "2021-06-29T16:19:08.498158Z",
     "start_time": "2021-06-29T16:19:08.343020Z"
    }
   },
   "outputs": [],
   "source": [
    "model = Sequential()\n",
    "model.add(layers.SimpleRNN(units=2, activation='tanh', input_shape=(4,3)))\n",
    "model.add(layers.Dense(1, activation=\"linear\"))"
   ]
  },
  {
   "cell_type": "code",
   "execution_count": null,
   "id": "6846c877",
   "metadata": {
    "ExecuteTime": {
     "end_time": "2021-06-29T16:19:09.947275Z",
     "start_time": "2021-06-29T16:19:09.577049Z"
    }
   },
   "outputs": [],
   "source": [
    "# The compilation\n",
    "model.compile(loss='mse', \n",
    "              optimizer='rmsprop')  # Recommanded optimizer for RNN"
   ]
  },
  {
   "cell_type": "code",
   "execution_count": null,
   "id": "dbcca533",
   "metadata": {
    "ExecuteTime": {
     "end_time": "2021-06-29T16:19:09.947275Z",
     "start_time": "2021-06-29T16:19:09.577049Z"
    }
   },
   "outputs": [],
   "source": [
    "# The fit\n",
    "model.fit(X, y,\n",
    "         batch_size=16,\n",
    "         epochs=10, verbose=0)"
   ]
  },
  {
   "cell_type": "code",
   "execution_count": null,
   "id": "706c523f",
   "metadata": {
    "ExecuteTime": {
     "end_time": "2021-06-29T16:19:09.947275Z",
     "start_time": "2021-06-29T16:19:09.577049Z"
    }
   },
   "outputs": [],
   "source": [
    "# The prediction (one per sequence/city)\n",
    "model.predict(X)"
   ]
  },
  {
   "cell_type": "code",
   "execution_count": null,
   "id": "612ba656",
   "metadata": {},
   "outputs": [],
   "source": []
  }
 ],
 "metadata": {
  "kernelspec": {
   "display_name": "Python 3",
   "language": "python",
   "name": "python3"
  },
  "language_info": {
   "codemirror_mode": {
    "name": "ipython",
    "version": 3
   },
   "file_extension": ".py",
   "mimetype": "text/x-python",
   "name": "python",
   "nbconvert_exporter": "python",
   "pygments_lexer": "ipython3",
   "version": "3.8.6"
  },
  "toc": {
   "base_numbering": 1,
   "nav_menu": {},
   "number_sections": true,
   "sideBar": true,
   "skip_h1_title": false,
   "title_cell": "Table of Contents",
   "title_sidebar": "Contents",
   "toc_cell": false,
   "toc_position": {},
   "toc_section_display": true,
   "toc_window_display": false
  }
 },
 "nbformat": 4,
 "nbformat_minor": 5
}
