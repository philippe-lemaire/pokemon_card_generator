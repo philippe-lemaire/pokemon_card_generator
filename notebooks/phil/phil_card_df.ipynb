{
 "cells": [
  {
   "cell_type": "code",
   "execution_count": 1,
   "id": "f12a949e",
   "metadata": {
    "ExecuteTime": {
     "end_time": "2021-06-29T07:06:00.558236Z",
     "start_time": "2021-06-29T07:06:00.523436Z"
    }
   },
   "outputs": [],
   "source": [
    "%load_ext autoreload\n",
    "\n",
    "%autoreload 2"
   ]
  },
  {
   "cell_type": "code",
   "execution_count": 12,
   "id": "b201482c",
   "metadata": {
    "ExecuteTime": {
     "end_time": "2021-06-29T07:34:02.389151Z",
     "start_time": "2021-06-29T07:34:02.365277Z"
    }
   },
   "outputs": [],
   "source": [
    "import pandas as pd"
   ]
  },
  {
   "cell_type": "code",
   "execution_count": 99,
   "id": "f271b888",
   "metadata": {
    "ExecuteTime": {
     "end_time": "2021-06-29T09:15:16.016006Z",
     "start_time": "2021-06-29T09:15:11.756796Z"
    }
   },
   "outputs": [],
   "source": [
    "from pokemon_card_generator.data import card_data\n",
    "\n",
    "cards_df = card_data.get_card_data()"
   ]
  },
  {
   "cell_type": "code",
   "execution_count": 100,
   "id": "e542efef",
   "metadata": {
    "ExecuteTime": {
     "end_time": "2021-06-29T09:16:30.894718Z",
     "start_time": "2021-06-29T09:16:30.861099Z"
    }
   },
   "outputs": [
    {
     "data": {
      "text/plain": [
       "0             NaN\n",
       "1             NaN\n",
       "2         Psychic\n",
       "3        Fighting\n",
       "4         Psychic\n",
       "           ...   \n",
       "13401         NaN\n",
       "13402         NaN\n",
       "13403         NaN\n",
       "13404         NaN\n",
       "13405         NaN\n",
       "Name: resistances, Length: 13406, dtype: object"
      ]
     },
     "execution_count": 100,
     "metadata": {},
     "output_type": "execute_result"
    }
   ],
   "source": [
    "cards_df.resistances"
   ]
  },
  {
   "cell_type": "code",
   "execution_count": 101,
   "id": "70f08762",
   "metadata": {
    "ExecuteTime": {
     "end_time": "2021-06-29T09:16:44.588037Z",
     "start_time": "2021-06-29T09:16:44.555969Z"
    }
   },
   "outputs": [
    {
     "data": {
      "text/plain": [
       "0         80\n",
       "1        100\n",
       "2        120\n",
       "3        120\n",
       "4         40\n",
       "        ... \n",
       "13391    330\n",
       "13392    330\n",
       "13393    320\n",
       "13400    110\n",
       "13401    130\n",
       "Name: hp, Length: 11366, dtype: object"
      ]
     },
     "execution_count": 101,
     "metadata": {},
     "output_type": "execute_result"
    }
   ],
   "source": [
    "pokemon_df.hp"
   ]
  },
  {
   "cell_type": "code",
   "execution_count": null,
   "id": "ee3f57b3",
   "metadata": {},
   "outputs": [],
   "source": []
  }
 ],
 "metadata": {
  "kernelspec": {
   "display_name": "Python 3",
   "language": "python",
   "name": "python3"
  },
  "language_info": {
   "codemirror_mode": {
    "name": "ipython",
    "version": 3
   },
   "file_extension": ".py",
   "mimetype": "text/x-python",
   "name": "python",
   "nbconvert_exporter": "python",
   "pygments_lexer": "ipython3",
   "version": "3.8.6"
  },
  "toc": {
   "base_numbering": 1,
   "nav_menu": {},
   "number_sections": true,
   "sideBar": true,
   "skip_h1_title": false,
   "title_cell": "Table of Contents",
   "title_sidebar": "Contents",
   "toc_cell": false,
   "toc_position": {},
   "toc_section_display": true,
   "toc_window_display": false
  }
 },
 "nbformat": 4,
 "nbformat_minor": 5
}
