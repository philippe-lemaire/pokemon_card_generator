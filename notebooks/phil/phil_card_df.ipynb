{
 "cells": [
  {
   "cell_type": "code",
   "execution_count": null,
   "id": "f12a949e",
   "metadata": {
    "ExecuteTime": {
     "end_time": "2021-06-29T07:06:00.558236Z",
     "start_time": "2021-06-29T07:06:00.523436Z"
    }
   },
   "outputs": [],
   "source": [
    "%load_ext autoreload\n",
    "\n",
    "%autoreload 2"
   ]
  },
  {
   "cell_type": "code",
   "execution_count": null,
   "id": "66797b88",
   "metadata": {
    "ExecuteTime": {
     "end_time": "2021-06-29T07:34:02.389151Z",
     "start_time": "2021-06-29T07:34:02.365277Z"
    }
   },
   "outputs": [],
   "source": [
    "import pandas as pd"
   ]
  },
  {
   "cell_type": "code",
   "execution_count": null,
   "id": "f271b888",
   "metadata": {
    "ExecuteTime": {
     "end_time": "2021-06-29T09:26:17.057664Z",
     "start_time": "2021-06-29T09:26:13.218194Z"
    }
   },
   "outputs": [],
   "source": [
    "from pokemon_card_generator.data import card_data\n",
    "\n",
    "cards_df = card_data.get_card_data()"
   ]
  },
  {
   "cell_type": "code",
   "execution_count": null,
   "id": "5760086c",
   "metadata": {},
   "outputs": [],
   "source": []
  }
 ],
 "metadata": {
  "kernelspec": {
   "display_name": "Python 3",
   "language": "python",
   "name": "python3"
  },
  "language_info": {
   "codemirror_mode": {
    "name": "ipython",
    "version": 3
   },
   "file_extension": ".py",
   "mimetype": "text/x-python",
   "name": "python",
   "nbconvert_exporter": "python",
   "pygments_lexer": "ipython3",
   "version": "3.8.6"
  },
  "toc": {
   "base_numbering": 1,
   "nav_menu": {},
   "number_sections": true,
   "sideBar": true,
   "skip_h1_title": false,
   "title_cell": "Table of Contents",
   "title_sidebar": "Contents",
   "toc_cell": false,
   "toc_position": {},
   "toc_section_display": true,
   "toc_window_display": false
  }
 },
 "nbformat": 4,
 "nbformat_minor": 5
}
